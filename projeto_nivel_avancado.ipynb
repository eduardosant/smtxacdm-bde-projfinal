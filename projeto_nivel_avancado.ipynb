{
 "cells": [
  {
   "cell_type": "markdown",
   "metadata": {},
   "source": [
    "Projeto Final de Spark\n",
    "\n",
    "Campanha Nacional de Vacinação contra Covid-19\n",
    "\n",
    "Nível Avançado:\n",
    "Replicar as visualizações do site “https://covid.saude.gov.br/”, porém acessando diretamente a API de Elastic."
   ]
  },
  {
   "cell_type": "code",
   "execution_count": 1,
   "metadata": {},
   "outputs": [
    {
     "name": "stdout",
     "output_type": "stream",
     "text": [
      "root\n",
      " |-- output: struct (nullable = true)\n",
      " |    |-- _shards: struct (nullable = true)\n",
      " |    |    |-- failed: long (nullable = true)\n",
      " |    |    |-- skipped: long (nullable = true)\n",
      " |    |    |-- successful: long (nullable = true)\n",
      " |    |    |-- total: long (nullable = true)\n",
      " |    |-- hits: struct (nullable = true)\n",
      " |    |    |-- hits: array (nullable = true)\n",
      " |    |    |    |-- element: struct (containsNull = true)\n",
      " |    |    |    |    |-- _id: string (nullable = true)\n",
      " |    |    |    |    |-- _index: string (nullable = true)\n",
      " |    |    |    |    |-- _score: double (nullable = true)\n",
      " |    |    |    |    |-- _source: struct (nullable = true)\n",
      " |    |    |    |    |    |-- @timestamp: string (nullable = true)\n",
      " |    |    |    |    |    |-- @version: string (nullable = true)\n",
      " |    |    |    |    |    |-- data_importacao_rnds: string (nullable = true)\n",
      " |    |    |    |    |    |-- document_id: string (nullable = true)\n",
      " |    |    |    |    |    |-- estabelecimento_municipio_codigo: string (nullable = true)\n",
      " |    |    |    |    |    |-- estabelecimento_municipio_nome: string (nullable = true)\n",
      " |    |    |    |    |    |-- estabelecimento_razaoSocial: string (nullable = true)\n",
      " |    |    |    |    |    |-- estabelecimento_uf: string (nullable = true)\n",
      " |    |    |    |    |    |-- estabelecimento_valor: string (nullable = true)\n",
      " |    |    |    |    |    |-- estalecimento_noFantasia: string (nullable = true)\n",
      " |    |    |    |    |    |-- id_sistema_origem: string (nullable = true)\n",
      " |    |    |    |    |    |-- paciente_dataNascimento: string (nullable = true)\n",
      " |    |    |    |    |    |-- paciente_endereco_cep: string (nullable = true)\n",
      " |    |    |    |    |    |-- paciente_endereco_coIbgeMunicipio: string (nullable = true)\n",
      " |    |    |    |    |    |-- paciente_endereco_coPais: string (nullable = true)\n",
      " |    |    |    |    |    |-- paciente_endereco_nmMunicipio: string (nullable = true)\n",
      " |    |    |    |    |    |-- paciente_endereco_nmPais: string (nullable = true)\n",
      " |    |    |    |    |    |-- paciente_endereco_uf: string (nullable = true)\n",
      " |    |    |    |    |    |-- paciente_enumSexoBiologico: string (nullable = true)\n",
      " |    |    |    |    |    |-- paciente_id: string (nullable = true)\n",
      " |    |    |    |    |    |-- paciente_idade: long (nullable = true)\n",
      " |    |    |    |    |    |-- paciente_nacionalidade_enumNacionalidade: string (nullable = true)\n",
      " |    |    |    |    |    |-- paciente_racaCor_codigo: string (nullable = true)\n",
      " |    |    |    |    |    |-- paciente_racaCor_valor: string (nullable = true)\n",
      " |    |    |    |    |    |-- redshift: string (nullable = true)\n",
      " |    |    |    |    |    |-- sistema_origem: string (nullable = true)\n",
      " |    |    |    |    |    |-- vacina_categoria_codigo: string (nullable = true)\n",
      " |    |    |    |    |    |-- vacina_categoria_nome: string (nullable = true)\n",
      " |    |    |    |    |    |-- vacina_codigo: string (nullable = true)\n",
      " |    |    |    |    |    |-- vacina_dataAplicacao: string (nullable = true)\n",
      " |    |    |    |    |    |-- vacina_descricao_dose: string (nullable = true)\n",
      " |    |    |    |    |    |-- vacina_fabricante_nome: string (nullable = true)\n",
      " |    |    |    |    |    |-- vacina_fabricante_referencia: string (nullable = true)\n",
      " |    |    |    |    |    |-- vacina_grupoAtendimento_codigo: string (nullable = true)\n",
      " |    |    |    |    |    |-- vacina_grupoAtendimento_nome: string (nullable = true)\n",
      " |    |    |    |    |    |-- vacina_lote: string (nullable = true)\n",
      " |    |    |    |    |    |-- vacina_nome: string (nullable = true)\n",
      " |    |    |    |    |-- _type: string (nullable = true)\n",
      " |    |    |-- max_score: double (nullable = true)\n",
      " |    |    |-- total: struct (nullable = true)\n",
      " |    |    |    |-- relation: string (nullable = true)\n",
      " |    |    |    |-- value: long (nullable = true)\n",
      " |    |-- timed_out: boolean (nullable = true)\n",
      " |    |-- took: long (nullable = true)\n",
      " |-- size: string (nullable = true)\n",
      "\n"
     ]
    }
   ],
   "source": [
    "import pyspark.sql.functions as F\n",
    "from pyspark.sql.types import *\n",
    "# Criação da string com a URL de destino da API Elastic para fonte de dados MSCOVIDBR\n",
    "es_url = \"https://imunizacao-es.saude.gov.br/desc-imunizacao/_search\"\n",
    "# Agora vamos ler os dados do arquivo csv com o seguinte parâmetro da API:\n",
    "# {\n",
    "#  \"size\": 10000\n",
    "# }\n",
    "mscovidbrinputDf = spark.read.option('header', 'true').csv('/user/jes/data/mscovidbr_input.csv')\n",
    "# E criamos uma tabela temporária agora usando o 'mscovidbrinputDf'\n",
    "mscovidbrinputDf.createOrReplaceTempView('mscovidbrinputtbl')\n",
    "# Agora criamos o mapa de parâmetros para passar para a fonte de dados REST\n",
    "prmsMSCOVIDBR = { 'url' : es_url, 'input' : 'mscovidbrinputtbl', 'userId' : 'imunizacao_public', 'userPassword' : 'qlto5t&7r_@+#Tlstigi', 'method' : 'GET', 'readTimeout' : '10000', 'connectionTimeout' : '2000', 'partitions' : '10'}\n",
    "# Agora criamos o Dataframe que contém o resultado da chamada para a API com o parâmetro\n",
    "mscovidbrDf = spark.read.format(\"org.apache.dsext.spark.datasource.rest.RestDataSource\").options(**prmsMSCOVIDBR).load()\n",
    "# Nós inspecionamos a estrutura dos resultados retornados.\n",
    "mscovidbrDf.printSchema()"
   ]
  },
  {
   "cell_type": "code",
   "execution_count": 2,
   "metadata": {},
   "outputs": [
    {
     "name": "stdout",
     "output_type": "stream",
     "text": [
      "root\n",
      " |-- col: struct (nullable = true)\n",
      " |    |-- _id: string (nullable = true)\n",
      " |    |-- _index: string (nullable = true)\n",
      " |    |-- _score: double (nullable = true)\n",
      " |    |-- _source: struct (nullable = true)\n",
      " |    |    |-- @timestamp: string (nullable = true)\n",
      " |    |    |-- @version: string (nullable = true)\n",
      " |    |    |-- data_importacao_rnds: string (nullable = true)\n",
      " |    |    |-- document_id: string (nullable = true)\n",
      " |    |    |-- estabelecimento_municipio_codigo: string (nullable = true)\n",
      " |    |    |-- estabelecimento_municipio_nome: string (nullable = true)\n",
      " |    |    |-- estabelecimento_razaoSocial: string (nullable = true)\n",
      " |    |    |-- estabelecimento_uf: string (nullable = true)\n",
      " |    |    |-- estabelecimento_valor: string (nullable = true)\n",
      " |    |    |-- estalecimento_noFantasia: string (nullable = true)\n",
      " |    |    |-- id_sistema_origem: string (nullable = true)\n",
      " |    |    |-- paciente_dataNascimento: string (nullable = true)\n",
      " |    |    |-- paciente_endereco_cep: string (nullable = true)\n",
      " |    |    |-- paciente_endereco_coIbgeMunicipio: string (nullable = true)\n",
      " |    |    |-- paciente_endereco_coPais: string (nullable = true)\n",
      " |    |    |-- paciente_endereco_nmMunicipio: string (nullable = true)\n",
      " |    |    |-- paciente_endereco_nmPais: string (nullable = true)\n",
      " |    |    |-- paciente_endereco_uf: string (nullable = true)\n",
      " |    |    |-- paciente_enumSexoBiologico: string (nullable = true)\n",
      " |    |    |-- paciente_id: string (nullable = true)\n",
      " |    |    |-- paciente_idade: long (nullable = true)\n",
      " |    |    |-- paciente_nacionalidade_enumNacionalidade: string (nullable = true)\n",
      " |    |    |-- paciente_racaCor_codigo: string (nullable = true)\n",
      " |    |    |-- paciente_racaCor_valor: string (nullable = true)\n",
      " |    |    |-- redshift: string (nullable = true)\n",
      " |    |    |-- sistema_origem: string (nullable = true)\n",
      " |    |    |-- vacina_categoria_codigo: string (nullable = true)\n",
      " |    |    |-- vacina_categoria_nome: string (nullable = true)\n",
      " |    |    |-- vacina_codigo: string (nullable = true)\n",
      " |    |    |-- vacina_dataAplicacao: string (nullable = true)\n",
      " |    |    |-- vacina_descricao_dose: string (nullable = true)\n",
      " |    |    |-- vacina_fabricante_nome: string (nullable = true)\n",
      " |    |    |-- vacina_fabricante_referencia: string (nullable = true)\n",
      " |    |    |-- vacina_grupoAtendimento_codigo: string (nullable = true)\n",
      " |    |    |-- vacina_grupoAtendimento_nome: string (nullable = true)\n",
      " |    |    |-- vacina_lote: string (nullable = true)\n",
      " |    |    |-- vacina_nome: string (nullable = true)\n",
      " |    |-- _type: string (nullable = true)\n",
      "\n"
     ]
    }
   ],
   "source": [
    "# Criamos o Dataframe 'mscovidbrDf_vacina' utilizando a função 'explode' \n",
    "# para retornar uma nova linha para cada elemento no array com dados dos pacientes vacinados.\n",
    "mscovidbrDf_vacina = mscovidbrDf.select(F.explode(F.col(\"output.hits.hits\").alias(\"paciente\")))\n",
    "# Nós inspecionamos a estrutura dos resultados retornados.\n",
    "mscovidbrDf_vacina.printSchema()"
   ]
  },
  {
   "cell_type": "code",
   "execution_count": 3,
   "metadata": {},
   "outputs": [
    {
     "name": "stdout",
     "output_type": "stream",
     "text": [
      "+---+-------------------------+----+--------------+-----------+-----------+\n",
      "|UF |Municipio                |Sexo|Media_de_idade|Idade_menor|Idade_maior|\n",
      "+---+-------------------------+----+--------------+-----------+-----------+\n",
      "|AC |PORTO WALTER             |F   |84.00         |84         |84         |\n",
      "|AC |RIO BRANCO               |F   |49.57         |19         |101        |\n",
      "|AC |ASSIS BRASIL             |M   |31.00         |20         |42         |\n",
      "|AC |SENA MADUREIRA           |M   |94.00         |94         |94         |\n",
      "|AC |RIO BRANCO               |M   |55.33         |32         |92         |\n",
      "|AC |FEIJO                    |F   |81.00         |80         |82         |\n",
      "|AC |FEIJO                    |M   |86.00         |77         |91         |\n",
      "|AC |SENA MADUREIRA           |F   |90.00         |84         |96         |\n",
      "|AL |PARICONHA                |M   |61.00         |51         |72         |\n",
      "|AL |PIACABUCU                |F   |55.00         |55         |55         |\n",
      "|AL |PARICONHA                |F   |32.75         |21         |44         |\n",
      "|AL |ARAPIRACA                |F   |55.33         |37         |83         |\n",
      "|AM |BARREIRINHA              |M   |27.50         |26         |29         |\n",
      "|AM |IRANDUBA                 |F   |58.75         |40         |75         |\n",
      "|AM |ITAMARATI                |M   |29.00         |29         |29         |\n",
      "|AM |CARAUARI                 |F   |93.00         |93         |93         |\n",
      "|AM |BARCELOS                 |M   |77.00         |77         |77         |\n",
      "|AM |SANTA ISABEL DO RIO NEGRO|M   |71.67         |63         |81         |\n",
      "|AM |JAPURA                   |M   |39.00         |39         |39         |\n",
      "|AM |SAO PAULO DE OLIVENCA    |F   |37.44         |18         |69         |\n",
      "+---+-------------------------+----+--------------+-----------+-----------+\n",
      "only showing top 20 rows\n",
      "\n"
     ]
    }
   ],
   "source": [
    "# Agora estamos prontos para aplicar SQL ou qualquer outro processamento nos resultados\n",
    "# Visualiações:\n",
    "# 1ª - Dos dados de vacinados por UF, município, sexo e idade(média, menor e maior)\n",
    "mscovidbrDf_vacina_sexo_idade = mscovidbrDf_vacina.groupBy(F.col(\"col._source.estabelecimento_uf\").alias(\"UF\"), \\\n",
    "                                                   F.col(\"col._source.estabelecimento_municipio_nome\").alias(\"Municipio\"), \\\n",
    "                                                   F.col(\"col._source.paciente_enumSexoBiologico\").alias(\"Sexo\") \\\n",
    "                                                   ).agg(F.format_number(F.avg(F.col(\"col._source.paciente_idade\")),2).alias(\"Media_de_idade\"), \\\n",
    "                                                       F.min(F.col(\"col._source.paciente_idade\")).alias(\"Idade_menor\"), \\\n",
    "                                                       F.max(F.col(\"col._source.paciente_idade\")).alias(\"Idade_maior\") \\\n",
    "                                                        ).sort(F.asc(\"UF\"))\n",
    "mscovidbrDf_vacina_sexo_idade.show(truncate=False)"
   ]
  },
  {
   "cell_type": "code",
   "execution_count": null,
   "metadata": {},
   "outputs": [],
   "source": [
    "# Salvando a primeira visualização como tabela Hive\n",
    "mscovidbrDf_vacina_sexo_idade.write.saveAsTable(\"vacina_sexo_idade\")"
   ]
  },
  {
   "cell_type": "code",
   "execution_count": 4,
   "metadata": {},
   "outputs": [
    {
     "name": "stdout",
     "output_type": "stream",
     "text": [
      "+---+-------------------+-----------------------------------+-------+--------------+\n",
      "|UF |Municipio          |Vacina                             |Dose   |Qtd_aplicacoes|\n",
      "+---+-------------------+-----------------------------------+-------+--------------+\n",
      "|AC |TARAUACA           |Vacina Covid-19 - Covishield       |1ª Dose|1             |\n",
      "|AC |SANTA ROSA DO PURUS|Covid-19-Coronavac-Sinovac/Butantan|2ª Dose|1             |\n",
      "|AC |RIO BRANCO         |Covid-19-Coronavac-Sinovac/Butantan|1ª Dose|2             |\n",
      "|AC |RIO BRANCO         |Vacina Covid-19 - Covishield       |1ª Dose|11            |\n",
      "|AC |FEIJO              |Covid-19-Coronavac-Sinovac/Butantan|2ª Dose|1             |\n",
      "|AC |CRUZEIRO DO SUL    |Covid-19-Coronavac-Sinovac/Butantan|2ª Dose|2             |\n",
      "|AL |PAO DE ACUCAR      |Covid-19-Coronavac-Sinovac/Butantan|1ª Dose|1             |\n",
      "|AL |BOCA DA MATA       |Covid-19-Coronavac-Sinovac/Butantan|1ª Dose|3             |\n",
      "|AL |JACARE DOS HOMENS  |Covid-19-Coronavac-Sinovac/Butantan|1ª Dose|1             |\n",
      "|AL |BARRA DE SAO MIGUEL|Covid-19-Coronavac-Sinovac/Butantan|1ª Dose|4             |\n",
      "|AL |TANQUE D'ARCA      |Covid-19-Coronavac-Sinovac/Butantan|1ª Dose|2             |\n",
      "|AL |AGUA BRANCA        |Covid-19-Coronavac-Sinovac/Butantan|1ª Dose|2             |\n",
      "|AL |SANTANA DO IPANEMA |Covid-19-Coronavac-Sinovac/Butantan|1ª Dose|5             |\n",
      "|AL |CAMPO GRANDE       |Vacina Covid-19 - Covishield       |1ª Dose|3             |\n",
      "|AL |PENEDO             |Covid-19-Coronavac-Sinovac/Butantan|1ª Dose|4             |\n",
      "|AL |JAPARATINGA        |Covid-19-Coronavac-Sinovac/Butantan|1ª Dose|3             |\n",
      "|AL |MACEIO             |Vacina Covid-19 - Covishield       |1ª Dose|18            |\n",
      "|AL |DELMIRO GOUVEIA    |Covid-19-Coronavac-Sinovac/Butantan|1ª Dose|3             |\n",
      "|AL |PALMEIRA DOS INDIOS|Covid-19-Coronavac-Sinovac/Butantan|1ª Dose|7             |\n",
      "|AL |SAO SEBASTIAO      |Covid-19-Coronavac-Sinovac/Butantan|2ª Dose|2             |\n",
      "+---+-------------------+-----------------------------------+-------+--------------+\n",
      "only showing top 20 rows\n",
      "\n"
     ]
    }
   ],
   "source": [
    "# 2ª - Dos dados de vacinados por UF, município, vacina e dose aplicada\n",
    "mscovidbrDf_vacina_dose = mscovidbrDf_vacina.groupBy(F.col(\"col._source.estabelecimento_uf\").alias(\"UF\"), \\\n",
    "                                                   F.col(\"col._source.estabelecimento_municipio_nome\").alias(\"Municipio\"), \\\n",
    "                                                   F.col(\"col._source.vacina_nome\").alias(\"Vacina\"), \\\n",
    "                                                   F.col(\"col._source.vacina_descricao_dose\").alias(\"Dose\") \\\n",
    "                                                   ).agg(F.count(F.col(\"col._source.vacina_descricao_dose\")).alias(\"Qtd_aplicacoes\") \\\n",
    "                                                        ).sort(F.asc(\"UF\"))\n",
    "mscovidbrDf_vacina_dose.show(truncate=False)"
   ]
  },
  {
   "cell_type": "code",
   "execution_count": null,
   "metadata": {},
   "outputs": [],
   "source": [
    "# Salvando a segunda visualização com formato parquet e compressão snappy\n",
    "mscovidbrDf_vacina_dose.write.save(\"/user/jes/vacina_parquet\")"
   ]
  },
  {
   "cell_type": "code",
   "execution_count": 5,
   "metadata": {},
   "outputs": [
    {
     "name": "stdout",
     "output_type": "stream",
     "text": [
      "Found 26 items\r\n",
      "-rw-r--r--   2 root supergroup          0 2021-07-12 21:33 /user/jes/vacina_parquet/_SUCCESS\r\n",
      "-rw-r--r--   2 root supergroup       2300 2021-07-12 21:33 /user/jes/vacina_parquet/part-00000-ffe6d4e3-bfb2-4002-9686-2ce147139853-c000.snappy.parquet\r\n",
      "-rw-r--r--   2 root supergroup       2066 2021-07-12 21:33 /user/jes/vacina_parquet/part-00001-ffe6d4e3-bfb2-4002-9686-2ce147139853-c000.snappy.parquet\r\n",
      "-rw-r--r--   2 root supergroup       1660 2021-07-12 21:33 /user/jes/vacina_parquet/part-00002-ffe6d4e3-bfb2-4002-9686-2ce147139853-c000.snappy.parquet\r\n",
      "-rw-r--r--   2 root supergroup       4482 2021-07-12 21:33 /user/jes/vacina_parquet/part-00003-ffe6d4e3-bfb2-4002-9686-2ce147139853-c000.snappy.parquet\r\n",
      "-rw-r--r--   2 root supergroup       2011 2021-07-12 21:33 /user/jes/vacina_parquet/part-00004-ffe6d4e3-bfb2-4002-9686-2ce147139853-c000.snappy.parquet\r\n",
      "-rw-r--r--   2 root supergroup       1595 2021-07-12 21:33 /user/jes/vacina_parquet/part-00005-ffe6d4e3-bfb2-4002-9686-2ce147139853-c000.snappy.parquet\r\n",
      "-rw-r--r--   2 root supergroup       2377 2021-07-12 21:33 /user/jes/vacina_parquet/part-00006-ffe6d4e3-bfb2-4002-9686-2ce147139853-c000.snappy.parquet\r\n",
      "-rw-r--r--   2 root supergroup       2581 2021-07-12 21:33 /user/jes/vacina_parquet/part-00007-ffe6d4e3-bfb2-4002-9686-2ce147139853-c000.snappy.parquet\r\n",
      "-rw-r--r--   2 root supergroup       2542 2021-07-12 21:33 /user/jes/vacina_parquet/part-00008-ffe6d4e3-bfb2-4002-9686-2ce147139853-c000.snappy.parquet\r\n",
      "-rw-r--r--   2 root supergroup       4990 2021-07-12 21:33 /user/jes/vacina_parquet/part-00009-ffe6d4e3-bfb2-4002-9686-2ce147139853-c000.snappy.parquet\r\n",
      "-rw-r--r--   2 root supergroup       1969 2021-07-12 21:33 /user/jes/vacina_parquet/part-00010-ffe6d4e3-bfb2-4002-9686-2ce147139853-c000.snappy.parquet\r\n",
      "-rw-r--r--   2 root supergroup       2207 2021-07-12 21:33 /user/jes/vacina_parquet/part-00011-ffe6d4e3-bfb2-4002-9686-2ce147139853-c000.snappy.parquet\r\n",
      "-rw-r--r--   2 root supergroup       2221 2021-07-12 21:33 /user/jes/vacina_parquet/part-00012-ffe6d4e3-bfb2-4002-9686-2ce147139853-c000.snappy.parquet\r\n",
      "-rw-r--r--   2 root supergroup       2146 2021-07-12 21:33 /user/jes/vacina_parquet/part-00013-ffe6d4e3-bfb2-4002-9686-2ce147139853-c000.snappy.parquet\r\n",
      "-rw-r--r--   2 root supergroup       2468 2021-07-12 21:33 /user/jes/vacina_parquet/part-00014-ffe6d4e3-bfb2-4002-9686-2ce147139853-c000.snappy.parquet\r\n",
      "-rw-r--r--   2 root supergroup       1978 2021-07-12 21:33 /user/jes/vacina_parquet/part-00015-ffe6d4e3-bfb2-4002-9686-2ce147139853-c000.snappy.parquet\r\n",
      "-rw-r--r--   2 root supergroup       3286 2021-07-12 21:33 /user/jes/vacina_parquet/part-00016-ffe6d4e3-bfb2-4002-9686-2ce147139853-c000.snappy.parquet\r\n",
      "-rw-r--r--   2 root supergroup       2393 2021-07-12 21:33 /user/jes/vacina_parquet/part-00017-ffe6d4e3-bfb2-4002-9686-2ce147139853-c000.snappy.parquet\r\n",
      "-rw-r--r--   2 root supergroup       2690 2021-07-12 21:33 /user/jes/vacina_parquet/part-00018-ffe6d4e3-bfb2-4002-9686-2ce147139853-c000.snappy.parquet\r\n",
      "-rw-r--r--   2 root supergroup       1724 2021-07-12 21:33 /user/jes/vacina_parquet/part-00019-ffe6d4e3-bfb2-4002-9686-2ce147139853-c000.snappy.parquet\r\n",
      "-rw-r--r--   2 root supergroup       1677 2021-07-12 21:33 /user/jes/vacina_parquet/part-00020-ffe6d4e3-bfb2-4002-9686-2ce147139853-c000.snappy.parquet\r\n",
      "-rw-r--r--   2 root supergroup       4331 2021-07-12 21:33 /user/jes/vacina_parquet/part-00021-ffe6d4e3-bfb2-4002-9686-2ce147139853-c000.snappy.parquet\r\n",
      "-rw-r--r--   2 root supergroup       3038 2021-07-12 21:33 /user/jes/vacina_parquet/part-00022-ffe6d4e3-bfb2-4002-9686-2ce147139853-c000.snappy.parquet\r\n",
      "-rw-r--r--   2 root supergroup       1893 2021-07-12 21:33 /user/jes/vacina_parquet/part-00023-ffe6d4e3-bfb2-4002-9686-2ce147139853-c000.snappy.parquet\r\n",
      "-rw-r--r--   2 root supergroup       2016 2021-07-12 21:33 /user/jes/vacina_parquet/part-00024-ffe6d4e3-bfb2-4002-9686-2ce147139853-c000.snappy.parquet\r\n"
     ]
    }
   ],
   "source": [
    "!hdfs dfs -ls /user/jes/vacina_parquet"
   ]
  },
  {
   "cell_type": "code",
   "execution_count": 6,
   "metadata": {},
   "outputs": [
    {
     "name": "stdout",
     "output_type": "stream",
     "text": [
      "+---+-------------------+--------------------+-------+----+--------------+--------------+-----------+-----------+\n",
      "| UF|          Municipio|              Vacina|   Dose|Sexo|          Raca|Qtd_aplicacoes|Idade_menor|Idade_maior|\n",
      "+---+-------------------+--------------------+-------+----+--------------+--------------+-----------+-----------+\n",
      "| AC|         RIO BRANCO|Vacina Covid-19 -...|1ª Dose|   F|SEM INFORMACAO|             2|         40|         73|\n",
      "| AC|SANTA ROSA DO PURUS|Covid-19-Coronava...|2ª Dose|   F|      INDIGENA|             1|         20|         20|\n",
      "| AC|           TARAUACA|Vacina Covid-19 -...|1ª Dose|   F|       AMARELA|             1|         80|         80|\n",
      "| AC|         RIO BRANCO|Vacina Covid-19 -...|1ª Dose|   F|       AMARELA|             1|         53|         53|\n",
      "| AC|         RIO BRANCO|Vacina Covid-19 -...|1ª Dose|   M|       AMARELA|             3|         79|         83|\n",
      "| AC|    CRUZEIRO DO SUL|Covid-19-Coronava...|2ª Dose|   F|       AMARELA|             1|         33|         33|\n",
      "| AC|         RIO BRANCO|Vacina Covid-19 -...|1ª Dose|   F|        BRANCA|             1|         42|         42|\n",
      "| AC|              FEIJO|Covid-19-Coronava...|2ª Dose|   M|       AMARELA|             1|         78|         78|\n",
      "| AC|         RIO BRANCO|Covid-19-Coronava...|1ª Dose|   F|        BRANCA|             1|         72|         72|\n",
      "| AC|         RIO BRANCO|Vacina Covid-19 -...|1ª Dose|   M|         PARDA|             2|         47|         47|\n",
      "| AC|         RIO BRANCO|Vacina Covid-19 -...|1ª Dose|   F|         PARDA|             2|         43|         73|\n",
      "| AC|         RIO BRANCO|Covid-19-Coronava...|1ª Dose|   M|       AMARELA|             1|         28|         28|\n",
      "| AC|    CRUZEIRO DO SUL|Covid-19-Coronava...|2ª Dose|   M|         PARDA|             1|         26|         26|\n",
      "| AL|      SAO SEBASTIAO|Covid-19-Coronava...|2ª Dose|   M|      INDIGENA|             1|         26|         26|\n",
      "| AL|           OLIVENCA|Covid-19-Coronava...|1ª Dose|   M|         PRETA|             1|         72|         72|\n",
      "| AL|             MACEIO|Covid-19-Coronava...|2ª Dose|   F|       AMARELA|             1|         44|         44|\n",
      "| AL|    TEOTONIO VILELA|Covid-19-Coronava...|1ª Dose|   M|         PARDA|             2|         75|         76|\n",
      "| AL|            CRAIBAS|Vacina Covid-19 -...|1ª Dose|   F|         PARDA|             2|         76|         77|\n",
      "| AL|  JACARE DOS HOMENS|Covid-19-Coronava...|1ª Dose|   F|SEM INFORMACAO|             1|         70|         70|\n",
      "| AL|             MACEIO|Covid-19-Coronava...|1ª Dose|   F|        BRANCA|            25|         43|         76|\n",
      "+---+-------------------+--------------------+-------+----+--------------+--------------+-----------+-----------+\n",
      "only showing top 20 rows\n",
      "\n"
     ]
    }
   ],
   "source": [
    "# 3ª - Dos dados de vacinados por UF, município, raça, sexo, vacina e dose aplicada\n",
    "mscovidbrDf_vacina_dose_sexoraca = mscovidbrDf_vacina.groupBy(F.col(\"col._source.estabelecimento_uf\").alias(\"UF\"), \\\n",
    "                                                   F.col(\"col._source.estabelecimento_municipio_nome\").alias(\"Municipio\"), \\\n",
    "                                                   F.col(\"col._source.vacina_nome\").alias(\"Vacina\"), \\\n",
    "                                                   F.col(\"col._source.vacina_descricao_dose\").alias(\"Dose\"), \\\n",
    "                                                   F.col(\"col._source.paciente_enumSexoBiologico\").alias(\"Sexo\"), \\\n",
    "                                                   F.col(\"col._source.paciente_racaCor_valor\").alias(\"Raca\") \\\n",
    "                                                   ).agg(F.count(F.col(\"col._source.paciente_racaCor_valor\")).alias(\"Qtd_aplicacoes\"), \\\n",
    "                                                         F.min(F.col(\"col._source.paciente_idade\")).alias(\"Idade_menor\"), \\\n",
    "                                                         F.max(F.col(\"col._source.paciente_idade\")).alias(\"Idade_maior\") \\\n",
    "                                                        ).sort(F.asc(\"UF\"))\n",
    "mscovidbrDf_vacina_dose_sexoraca.show()"
   ]
  },
  {
   "cell_type": "code",
   "execution_count": 7,
   "metadata": {},
   "outputs": [
    {
     "name": "stdout",
     "output_type": "stream",
     "text": [
      "+-----------------------------------+-----+\n",
      "|key                                |value|\n",
      "+-----------------------------------+-----+\n",
      "|Covid-19-Coronavac-Sinovac/Butantan|8651 |\n",
      "|Vacina Covid-19 - Covishield       |1349 |\n",
      "+-----------------------------------+-----+\n",
      "\n"
     ]
    }
   ],
   "source": [
    "# 4ª - Da quantidade de aplicações por vacina\n",
    "mscovidbrDf_vacina_dose_aplicacoes = mscovidbrDf_vacina.groupBy(F.col(\"col._source.vacina_nome\").alias(\"key\") \\\n",
    "                                                   ).agg(F.count(F.col(\"col._source.vacina_nome\")).cast(\"string\").alias(\"value\") \\\n",
    "                                                        )\n",
    "mscovidbrDf_vacina_dose_aplicacoes.show(truncate=False)"
   ]
  },
  {
   "cell_type": "code",
   "execution_count": 8,
   "metadata": {},
   "outputs": [
    {
     "name": "stdout",
     "output_type": "stream",
     "text": [
      "root\n",
      " |-- key: string (nullable = true)\n",
      " |-- value: string (nullable = false)\n",
      "\n"
     ]
    }
   ],
   "source": [
    "mscovidbrDf_vacina_dose_aplicacoes.printSchema()"
   ]
  },
  {
   "cell_type": "code",
   "execution_count": null,
   "metadata": {},
   "outputs": [],
   "source": [
    "# Salvando a quarta visualização em um tópico no Kafka\n",
    "mscovidbrDf_vacina_dose_aplicacoes.write \\\n",
    "                                  .format(\"kafka\") \\\n",
    "                                  .option(\"kafka.bootstrap.servers\", \"kafka:9092\") \\\n",
    "                                  .option(\"topic\", \"topic-kvvacina\") \\\n",
    "                                  .save()"
   ]
  },
  {
   "cell_type": "markdown",
   "metadata": {},
   "source": [
    "Referência:\n",
    "\n",
    "Neste projeto foi utilizada a biblioteca \"Rest Data Source for Apache Spark\" (https://github.com/sourav-mazumder/Data-Science-Extensions/tree/master/spark-datasource-rest)\n",
    "\n",
    "Esta é uma biblioteca para chamar serviços/APIs baseados em REST para vários conjuntos de parâmetros de entrada em paralelo e agrupar os resultados, retornados pelo serviço REST, em um Dataframe."
   ]
  }
 ],
 "metadata": {
  "kernelspec": {
   "display_name": "PySpark",
   "language": "python",
   "name": "pyspark"
  },
  "language_info": {
   "codemirror_mode": {
    "name": "ipython",
    "version": 3
   },
   "file_extension": ".py",
   "mimetype": "text/x-python",
   "name": "python",
   "nbconvert_exporter": "python",
   "pygments_lexer": "ipython3",
   "version": "3.6.10"
  }
 },
 "nbformat": 4,
 "nbformat_minor": 2
}
